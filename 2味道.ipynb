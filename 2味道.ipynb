{
 "cells": [
  {
   "cell_type": "markdown",
   "id": "50aa0863",
   "metadata": {},
   "source": [
    "#  Initialize KAN"
   ]
  },
  {
   "cell_type": "code",
   "execution_count": 1,
   "id": "e60925f4",
   "metadata": {},
   "outputs": [
    {
     "data": {
      "text/plain": [
       "<torch._C.Generator at 0x10edc6d1d50>"
      ]
     },
     "execution_count": 1,
     "metadata": {},
     "output_type": "execute_result"
    }
   ],
   "source": [
    "from kan import *\n",
    "import torch\n",
    "torch.manual_seed(24)"
   ]
  },
  {
   "cell_type": "markdown",
   "id": "8ab7fc9f",
   "metadata": {},
   "source": [
    "# Create dataset"
   ]
  },
  {
   "cell_type": "code",
   "execution_count": 2,
   "id": "97a5bfc9",
   "metadata": {},
   "outputs": [],
   "source": [
    "dataset = {}\n",
    "train_input = np.linspace(0.2, 4, 100).reshape(-1, 1)\n",
    "test_input = np.linspace(0,3, 100).reshape(-1, 1)\n",
    "dataset['train_input'] = torch.from_numpy(train_input)\n",
    "dataset['test_input'] = torch.from_numpy(test_input)\n",
    "\n",
    "dataset['train_label'] = torch.zeros(train_input.shape[0], 1)  \n",
    "dataset['test_label'] = torch.ones(test_input.shape[0], 1)   "
   ]
  },
  {
   "cell_type": "markdown",
   "id": "64667eba",
   "metadata": {},
   "source": [
    "# define the train function"
   ]
  },
  {
   "cell_type": "code",
   "execution_count": 3,
   "id": "1c017b31",
   "metadata": {},
   "outputs": [],
   "source": [
    "# 创建一个 KAN：第一层是两个特征输入层节点（x, y），第二层是 5 个隐藏层节点，第三层是 1 个输出层节点 f(x, y)，k = 3 代表选择三次样条曲线，grid = 5 代表网格点为 5\n",
    "model = KAN(width=[1,3,1], grid=5, k=3, seed=1, noise_scale_base = 2., noise_scale = 0.)\n",
    "# x = torch.normal(1,10,size=(1000,1))\n",
    "# model.update_grid_from_samples(x)"
   ]
  },
  {
   "cell_type": "code",
   "execution_count": 4,
   "id": "ccc59c48",
   "metadata": {},
   "outputs": [
    {
     "data": {
      "image/png": "[encoded data removed]",
      "text/plain": [
       "<Figure size 500x400 with 7 Axes>"
      ]
     },
     "metadata": {},
     "output_type": "display_data"
    }
   ],
   "source": [
    "# plot KAN at initialization\n",
    "model(dataset['train_input']);\n",
    "model.plot(beta=100,in_vars=['r'], out_vars=['w'])"
   ]
  },
  {
   "cell_type": "code",
   "execution_count": 5,
   "id": "b77ee033",
   "metadata": {},
   "outputs": [],
   "source": [
    "# model.fix_symbolic(2,0,0,'sigmoid')\n",
    "# model.fix_symbolic(0,0,0,'sigmoid')\n",
    "# model.fix_symbolic(1,0,0,'sigmoid')\n",
    "# model.fix_symbolic(3,0,0,'exp')"
   ]
  },
  {
   "cell_type": "code",
   "execution_count": 6,
   "id": "bf0d368b",
   "metadata": {},
   "outputs": [],
   "source": [
    "def KAN_train(self, dataset, func_LE, opt=\"LBFGS\", steps=100, log=1, lamb=0., lamb_l1=1., lamb_entropy=2., lamb_coef=0., lamb_coefdiff=0., update_grid=True, grid_update_num=10, loss_fn=None, lr=1., stop_grid_update_step=50, batch=-1,\n",
    "              small_mag_threshold=1e-16, small_reg_factor=1., metrics=None, sglr_avoid=False, save_fig=False, in_vars=None, out_vars=None, beta=3, save_fig_freq=1, img_folder='./video', device='cpu'):\n",
    "\n",
    "    def reg(acts_scale):\n",
    "        def nonlinear(x, th=small_mag_threshold, factor=small_reg_factor):\n",
    "            return (x < th) * x * factor + (x > th) * (x + (factor - 1) * th)\n",
    "\n",
    "        reg_ = 0.\n",
    "        for i in range(len(acts_scale)):\n",
    "            vec = acts_scale[i].reshape(-1, )\n",
    "            p = vec / torch.sum(vec)\n",
    "            l1 = torch.sum(nonlinear(vec))\n",
    "            entropy = -torch.sum(p * torch.log2(p + 1e-4))\n",
    "            reg_ += lamb_l1 * l1 + lamb_entropy * entropy  # both l1 and entropy\n",
    "\n",
    "        # Regularize coefficient to encourage spline to be zero\n",
    "        for i in range(len(self.act_fun)):\n",
    "            coeff_l1 = torch.sum(torch.mean(torch.abs(self.act_fun[i].coef), dim=1))\n",
    "            coeff_diff_l1 = torch.sum(torch.mean(torch.abs(torch.diff(self.act_fun[i].coef)), dim=1))\n",
    "            reg_ += lamb_coef * coeff_l1 + lamb_coefdiff * coeff_diff_l1\n",
    "\n",
    "        return reg_\n",
    "\n",
    "    pbar = tqdm(range(steps), desc='description', ncols=100)\n",
    "\n",
    "    if loss_fn is None:\n",
    "        loss_fn = loss_fn_eval = lambda x, y: torch.mean(torch.abs(x - y))\n",
    "    else:\n",
    "        loss_fn = loss_fn_eval = loss_fn\n",
    "\n",
    "    grid_update_freq = int(stop_grid_update_step / grid_update_num)\n",
    "\n",
    "    # 将 g 定义为可训练的张量\n",
    "    g = torch.tensor(0.2, requires_grad=True, device=device)\n",
    "\n",
    "    # 将 g 添加到优化器中\n",
    "    if opt == \"Adam\":\n",
    "        optimizer = torch.optim.Adam(list(self.parameters()) + [g], lr=lr)  # 将 g 作为单独的参数\n",
    "    elif opt == \"LBFGS\":\n",
    "        optimizer = LBFGS([*self.parameters(), g], lr=lr, history_size=10, line_search_fn=\"strong_wolfe\", tolerance_grad=1e-32, tolerance_change=1e-32, tolerance_ys=1e-32)\n",
    "\n",
    "    results = {}\n",
    "    results['train_loss'] = []\n",
    "    results['test_loss'] = []\n",
    "    results['reg'] = []\n",
    "    results['g_values'] = []  # 用于存储 g 的值\n",
    "    if metrics is not None:\n",
    "        for i in range(len(metrics)):\n",
    "            results[metrics[i].__name__] = []\n",
    "\n",
    "    if batch == -1 or batch > dataset['train_input'].shape[0]:\n",
    "        batch_size = dataset['train_input'].shape[0]\n",
    "        batch_size_test = dataset['test_input'].shape[0]\n",
    "    else:\n",
    "        batch_size = batch\n",
    "        batch_size_test = batch\n",
    "\n",
    "    global train_loss, reg_\n",
    "\n",
    "    def custom_loss(w_rn, w_r0):\n",
    "        penalty = torch.where(w_rn <= w_r0, (w_r0 - w_rn) * 10, torch.tensor(0.0, device=w_rn.device))\n",
    "        penalty_sum = torch.sum(penalty)\n",
    "        total_loss = penalty_sum  # + base_loss \n",
    "        return total_loss\n",
    "\n",
    "    \n",
    "    def closure():\n",
    "        global train_loss, reg_\n",
    "\n",
    "        optimizer.zero_grad()\n",
    "        \n",
    "        loss2_accum = 0.0  # Initialize accumulated loss\n",
    "        r_min = 0.01\n",
    "        deg = 150\n",
    "        xk, wk = np.polynomial.legendre.leggauss(deg)\n",
    "        xk = torch.from_numpy(xk).float().to(device)\n",
    "        wk = torch.from_numpy(wk).float().to(device)\n",
    "\n",
    "        r = dataset['train_input'].to(device)\n",
    "        r.requires_grad = True\n",
    "\n",
    "        L_dis = torch.tensor([], device=device)\n",
    "        m1 = torch.tensor([], device=device)\n",
    "\n",
    "        for idx in range(len(r)):\n",
    "            xn = (r[idx] - r_min) * 0.5 * xk + (r[idx] + r_min) * 0.5\n",
    "            wn = wk * (r[idx] - r_min) * 0.5\n",
    "\n",
    "            xn = xn.reshape(-1, 1).to(device)\n",
    "            wn = wn.reshape(-1, 1).to(device)\n",
    "\n",
    "            x_fn = self.forward(xn)\n",
    "            w_rn = x_fn / xn ** 2\n",
    "            hn = torch.tensor([0.0], requires_grad=True, device=device, dtype=torch.double).reshape(-1, 1).to(device)\n",
    "            x_fn0 = self.forward(hn)\n",
    "            x_fn0d = torch.autograd.grad(outputs=x_fn0, inputs=hn, create_graph=True)[0]\n",
    "            w_r0 = self.forward(r[idx].reshape(-1, 1).to(device)) / r[idx] ** 2\n",
    "        \n",
    "            current_loss2 = custom_loss(w_rn, w_r0)\n",
    "            loss2_accum += current_loss2\n",
    "\n",
    "            diff = w_rn ** 2 - w_r0 ** 2\n",
    "            mask = diff <= 0\n",
    "            if torch.any(diff <= 0):\n",
    "                print(\"错误！小于0\")\n",
    "\n",
    "            diff[mask] = 100\n",
    "            Inter1 = 2 * 0.1973 * wn * (w_r0 ** 2 / diff) ** 0.5\n",
    "            Inter2 = wn * w_rn * (1 + w_r0 ** 2 / diff) ** 0.5 - wn * x_fn0 / xn ** 2 - wn * x_fn0d / xn \n",
    "\n",
    "            p1 = torch.sum(Inter1)\n",
    "            p2 = torch.sum(Inter2)\n",
    "\n",
    "            p1 = p1.reshape(-1, 1)\n",
    "            p2 = p2.reshape(-1, 1)\n",
    "\n",
    "            L_dis = torch.cat((L_dis, p1), 0)\n",
    "            m1 = torch.cat((m1, p2), 0)\n",
    "\n",
    "        HQ_pred = 2 * g * m1 - 2 * g * x_fn0 / r + 2*g* x_fn0d*torch.log(r)\n",
    "        HQ_true = func_LE(L_dis.detach().cpu().numpy())\n",
    "        HQ_true = torch.FloatTensor(HQ_true).reshape(-1, 1).to(device)\n",
    "        \n",
    "        train_loss = loss_fn(HQ_pred, HQ_true)\n",
    "        constraint_loss = (x_fn0 - 1.0) ** 2 \n",
    "        loss2 = loss2_accum\n",
    "        \n",
    "        #print(\"xn\", xn)\n",
    "        #print(\"x_fn\", x_fn)\n",
    "        print(\"train_loss==\", train_loss)\n",
    "        print(\"g\", g)\n",
    "        reg_ = reg(self.acts_scale)\n",
    "        objective = train_loss + lamb * reg_ + loss2 + constraint_loss * 10 # 将 g 加入目标函数以便更新\n",
    "        objective.backward()\n",
    "        return objective\n",
    "\n",
    "    if save_fig:\n",
    "        if not os.path.exists(img_folder):\n",
    "            os.makedirs(img_folder)\n",
    "\n",
    "    for _ in pbar:\n",
    "        train_id = np.random.choice(dataset['train_input'].shape[0], batch_size, replace=False)\n",
    "        test_id = np.random.choice(dataset['test_input'].shape[0], batch_size_test, replace=False)\n",
    "        if _ % grid_update_freq == 0 and _ < stop_grid_update_step and update_grid:\n",
    "            self.update_grid_from_samples(dataset['train_input'][train_id].to(device))\n",
    "\n",
    "        if opt == \"LBFGS\":\n",
    "            optimizer.step(closure)\n",
    "\n",
    "        if opt == \"Adam\":\n",
    "            pred = self.forward(dataset['train_input'][train_id].to(device))\n",
    "            if sglr_avoid:\n",
    "                id_ = torch.where(torch.isnan(torch.sum(pred, dim=1)) == False)[0]\n",
    "                train_loss = loss_fn(pred[id_], dataset['train_label'][train_id][id_].to(device))\n",
    "            else:\n",
    "                train_loss = loss_fn(pred, dataset['train_label'][train_id].to(device))\n",
    "            reg_ = reg(self.acts_scale)\n",
    "            loss = train_loss + lamb * reg_\n",
    "            optimizer.zero_grad()\n",
    "            loss.backward()\n",
    "            optimizer.step()\n",
    "            \n",
    "        test_loss = loss_fn_eval(self.forward(dataset['test_input'][test_id].to(device)), dataset['test_label'][test_id].to(device))\n",
    "        if _ % log == 0:\n",
    "            pbar.set_description(\"train loss: %.2e |  reg: %.2e \" % (train_loss.cpu().detach().numpy(), reg_.cpu().detach().numpy()))\n",
    "\n",
    "        results['g_values'].append(g.item())  # 保存 g 的值\n"
   ]
  },
  {
   "cell_type": "code",
   "execution_count": 7,
   "id": "68a5beff",
   "metadata": {},
   "outputs": [],
   "source": [
    "KAN.KAN_train = KAN_train"
   ]
  },
  {
   "cell_type": "code",
   "execution_count": 8,
   "id": "95e108c2",
   "metadata": {},
   "outputs": [],
   "source": [
    "def func_LE_wrapper(L):\n",
    "    E =0.8404*L - 0.0866/L +0.1033\n",
    "    return E"
   ]
  },
  {
   "cell_type": "code",
   "execution_count": 9,
   "id": "17df4e25",
   "metadata": {
    "scrolled": true
   },
   "outputs": [
    {
     "name": "stderr",
     "output_type": "stream",
     "text": [
      "description:   0%|                                                            | 0/2 [00:00<?, ?it/s]d:\\Jupyter\\两味道T=0Mev\\pykan-master\\kan\\KAN.py:327: UserWarning: std(): degrees of freedom is <= 0. Correction should be strictly less than the reduction factor (input numel divided by output numel). (Triggered internally at C:\\actions-runner\\_work\\pytorch\\pytorch\\builder\\windows\\pytorch\\aten\\src\\ATen\\native\\ReduceOps.cpp:1760.)\n",
      "  self.acts_scale_std.append(torch.std(postacts, dim=0))\n"
     ]
    },
    {
     "name": "stdout",
     "output_type": "stream",
     "text": [
      "train_loss== tensor(0.1168, dtype=torch.float64, grad_fn=<MeanBackward0>)\n",
      "g tensor(0.2000, requires_grad=True)\n",
      "train_loss== tensor(0.3345, dtype=torch.float64, grad_fn=<MeanBackward0>)\n",
      "g tensor(0.2139, requires_grad=True)\n",
      "train_loss== tensor(0.1178, dtype=torch.float64, grad_fn=<MeanBackward0>)\n",
      "g tensor(0.2042, requires_grad=True)\n",
      "train_loss== tensor(0.0415, dtype=torch.float64, grad_fn=<MeanBackward0>)\n",
      "g tensor(0.2128, requires_grad=True)\n",
      "train_loss== tensor(0.0397, dtype=torch.float64, grad_fn=<MeanBackward0>)\n",
      "g tensor(0.2178, requires_grad=True)\n",
      "train_loss== tensor(0.0381, dtype=torch.float64, grad_fn=<MeanBackward0>)\n",
      "g tensor(0.2164, requires_grad=True)\n",
      "train_loss== tensor(0.0379, dtype=torch.float64, grad_fn=<MeanBackward0>)\n",
      "g tensor(0.2157, requires_grad=True)\n",
      "train_loss== tensor(0.0381, dtype=torch.float64, grad_fn=<MeanBackward0>)\n",
      "g tensor(0.2163, requires_grad=True)\n",
      "train_loss== tensor(0.0381, dtype=torch.float64, grad_fn=<MeanBackward0>)\n",
      "g tensor(0.2163, requires_grad=True)\n",
      "train_loss== tensor(0.0381, dtype=torch.float64, grad_fn=<MeanBackward0>)\n",
      "g tensor(0.2164, requires_grad=True)\n",
      "train_loss== tensor(0.0381, dtype=torch.float64, grad_fn=<MeanBackward0>)\n",
      "g tensor(0.2163, requires_grad=True)\n",
      "train_loss== tensor(0.0381, dtype=torch.float64, grad_fn=<MeanBackward0>)\n",
      "g tensor(0.2163, requires_grad=True)\n",
      "train_loss== tensor(0.0381, dtype=torch.float64, grad_fn=<MeanBackward0>)\n",
      "g tensor(0.2163, requires_grad=True)\n",
      "train_loss== tensor(0.0381, dtype=torch.float64, grad_fn=<MeanBackward0>)\n",
      "g tensor(0.2163, requires_grad=True)\n",
      "train_loss== tensor(0.0381, dtype=torch.float64, grad_fn=<MeanBackward0>)\n",
      "g tensor(0.2163, requires_grad=True)\n",
      "train_loss== tensor(0.0381, dtype=torch.float64, grad_fn=<MeanBackward0>)\n",
      "g tensor(0.2163, requires_grad=True)\n",
      "train_loss== tensor(0.0381, dtype=torch.float64, grad_fn=<MeanBackward0>)\n",
      "g tensor(0.2163, requires_grad=True)\n",
      "train_loss== tensor(0.0381, dtype=torch.float64, grad_fn=<MeanBackward0>)\n",
      "g tensor(0.2163, requires_grad=True)\n",
      "train_loss== tensor(0.0381, dtype=torch.float64, grad_fn=<MeanBackward0>)\n",
      "g tensor(0.2163, requires_grad=True)\n",
      "train_loss== tensor(0.0381, dtype=torch.float64, grad_fn=<MeanBackward0>)\n",
      "g tensor(0.2163, requires_grad=True)\n",
      "train_loss== tensor(0.0381, dtype=torch.float64, grad_fn=<MeanBackward0>)\n",
      "g tensor(0.2163, requires_grad=True)\n",
      "train_loss== tensor(0.0894, dtype=torch.float64, grad_fn=<MeanBackward0>)\n",
      "g tensor(0.2070, requires_grad=True)\n",
      "train_loss== tensor(0.0402, dtype=torch.float64, grad_fn=<MeanBackward0>)\n",
      "g tensor(0.2138, requires_grad=True)\n",
      "train_loss== tensor(0.0379, dtype=torch.float64, grad_fn=<MeanBackward0>)\n",
      "g tensor(0.2157, requires_grad=True)\n",
      "train_loss== tensor(0.0380, dtype=torch.float64, grad_fn=<MeanBackward0>)\n",
      "g tensor(0.2162, requires_grad=True)\n",
      "train_loss== tensor(0.0381, dtype=torch.float64, grad_fn=<MeanBackward0>)\n",
      "g tensor(0.2163, requires_grad=True)\n",
      "train_loss== tensor(0.0381, dtype=torch.float64, grad_fn=<MeanBackward0>)\n",
      "g tensor(0.2163, requires_grad=True)\n",
      "train_loss== tensor(0.0381, dtype=torch.float64, grad_fn=<MeanBackward0>)\n",
      "g tensor(0.2163, requires_grad=True)\n",
      "train_loss== tensor(0.0381, dtype=torch.float64, grad_fn=<MeanBackward0>)\n",
      "g tensor(0.2163, requires_grad=True)\n",
      "train_loss== tensor(0.0381, dtype=torch.float64, grad_fn=<MeanBackward0>)\n",
      "g tensor(0.2163, requires_grad=True)\n",
      "train_loss== tensor(0.0381, dtype=torch.float64, grad_fn=<MeanBackward0>)\n",
      "g tensor(0.2163, requires_grad=True)\n",
      "train_loss== tensor(0.0381, dtype=torch.float64, grad_fn=<MeanBackward0>)\n",
      "g tensor(0.2163, requires_grad=True)\n",
      "train_loss== tensor(0.0381, dtype=torch.float64, grad_fn=<MeanBackward0>)\n",
      "g tensor(0.2163, requires_grad=True)\n"
     ]
    },
    {
     "name": "stderr",
     "output_type": "stream",
     "text": [
      "train loss: 3.81e-02 |  reg: 9.49e+00 :  50%|████████████            | 1/2 [04:07<04:07, 247.14s/it]"
     ]
    },
    {
     "name": "stdout",
     "output_type": "stream",
     "text": [
      "train_loss== tensor(0.0381, dtype=torch.float64, grad_fn=<MeanBackward0>)\n",
      "g tensor(0.2163, requires_grad=True)\n",
      "train_loss== tensor(0.0894, dtype=torch.float64, grad_fn=<MeanBackward0>)\n",
      "g tensor(0.2070, requires_grad=True)\n",
      "train_loss== tensor(0.0402, dtype=torch.float64, grad_fn=<MeanBackward0>)\n",
      "g tensor(0.2138, requires_grad=True)\n",
      "train_loss== tensor(0.0379, dtype=torch.float64, grad_fn=<MeanBackward0>)\n",
      "g tensor(0.2157, requires_grad=True)\n",
      "train_loss== tensor(0.0380, dtype=torch.float64, grad_fn=<MeanBackward0>)\n",
      "g tensor(0.2162, requires_grad=True)\n",
      "train_loss== tensor(0.0381, dtype=torch.float64, grad_fn=<MeanBackward0>)\n",
      "g tensor(0.2163, requires_grad=True)\n",
      "train_loss== tensor(0.0381, dtype=torch.float64, grad_fn=<MeanBackward0>)\n",
      "g tensor(0.2163, requires_grad=True)\n",
      "train_loss== tensor(0.0381, dtype=torch.float64, grad_fn=<MeanBackward0>)\n",
      "g tensor(0.2163, requires_grad=True)\n",
      "train_loss== tensor(0.0381, dtype=torch.float64, grad_fn=<MeanBackward0>)\n",
      "g tensor(0.2163, requires_grad=True)\n",
      "train_loss== tensor(0.0381, dtype=torch.float64, grad_fn=<MeanBackward0>)\n",
      "g tensor(0.2163, requires_grad=True)\n",
      "train_loss== tensor(0.0381, dtype=torch.float64, grad_fn=<MeanBackward0>)\n",
      "g tensor(0.2163, requires_grad=True)\n",
      "train_loss== tensor(0.0381, dtype=torch.float64, grad_fn=<MeanBackward0>)\n",
      "g tensor(0.2163, requires_grad=True)\n",
      "train_loss== tensor(0.0381, dtype=torch.float64, grad_fn=<MeanBackward0>)\n",
      "g tensor(0.2163, requires_grad=True)\n",
      "train_loss== tensor(0.0895, dtype=torch.float64, grad_fn=<MeanBackward0>)\n",
      "g tensor(0.2070, requires_grad=True)\n",
      "train_loss== tensor(0.0402, dtype=torch.float64, grad_fn=<MeanBackward0>)\n",
      "g tensor(0.2138, requires_grad=True)\n",
      "train_loss== tensor(0.0379, dtype=torch.float64, grad_fn=<MeanBackward0>)\n",
      "g tensor(0.2157, requires_grad=True)\n",
      "train_loss== tensor(0.0380, dtype=torch.float64, grad_fn=<MeanBackward0>)\n",
      "g tensor(0.2162, requires_grad=True)\n",
      "train_loss== tensor(0.0381, dtype=torch.float64, grad_fn=<MeanBackward0>)\n",
      "g tensor(0.2163, requires_grad=True)\n",
      "train_loss== tensor(0.0381, dtype=torch.float64, grad_fn=<MeanBackward0>)\n",
      "g tensor(0.2163, requires_grad=True)\n",
      "train_loss== tensor(0.0381, dtype=torch.float64, grad_fn=<MeanBackward0>)\n",
      "g tensor(0.2163, requires_grad=True)\n",
      "train_loss== tensor(0.0381, dtype=torch.float64, grad_fn=<MeanBackward0>)\n",
      "g tensor(0.2163, requires_grad=True)\n",
      "train_loss== tensor(0.0381, dtype=torch.float64, grad_fn=<MeanBackward0>)\n",
      "g tensor(0.2163, requires_grad=True)\n",
      "train_loss== tensor(0.0381, dtype=torch.float64, grad_fn=<MeanBackward0>)\n",
      "g tensor(0.2163, requires_grad=True)\n",
      "train_loss== tensor(0.0381, dtype=torch.float64, grad_fn=<MeanBackward0>)\n",
      "g tensor(0.2163, requires_grad=True)\n",
      "train_loss== tensor(0.0381, dtype=torch.float64, grad_fn=<MeanBackward0>)\n",
      "g tensor(0.2163, requires_grad=True)\n"
     ]
    },
    {
     "name": "stderr",
     "output_type": "stream",
     "text": [
      "train loss: 3.81e-02 |  reg: 9.49e+00 : 100%|████████████████████████| 2/2 [07:09<00:00, 214.82s/it]\n"
     ]
    }
   ],
   "source": [
    "model.KAN_train(dataset,func_LE_wrapper, steps=2, lamb=0.01,lamb_entropy=5.0,lr=2);"
   ]
  },
  {
   "cell_type": "code",
   "execution_count": 10,
   "id": "5f31e234",
   "metadata": {},
   "outputs": [
    {
     "name": "stdout",
     "output_type": "stream",
     "text": [
      "save this model to ./model_ckpt/ckpt1\n"
     ]
    }
   ],
   "source": [
    "model.save_ckpt('ckpt1')"
   ]
  },
  {
   "cell_type": "markdown",
   "id": "17439661",
   "metadata": {},
   "source": [
    "# Obtain the symbolic formula"
   ]
  },
  {
   "cell_type": "code",
   "execution_count": 11,
   "id": "b4fa4e58",
   "metadata": {},
   "outputs": [
    {
     "data": {
      "image/png": "[encoded data removed]",
      "text/plain": [
       "<Figure size 500x400 with 7 Axes>"
      ]
     },
     "metadata": {},
     "output_type": "display_data"
    }
   ],
   "source": [
    "model.plot()\n",
    "# model.save_ckpt('ckpt1')"
   ]
  },
  {
   "cell_type": "code",
   "execution_count": 12,
   "id": "b6e98dd2",
   "metadata": {},
   "outputs": [
    {
     "data": {
      "image/png": "[encoded data removed]",
      "text/plain": [
       "<Figure size 500x400 with 3 Axes>"
      ]
     },
     "metadata": {},
     "output_type": "display_data"
    }
   ],
   "source": [
    "model = model.prune(0.1)\n",
    "model(dataset['train_input'])\n",
    "model.plot()"
   ]
  },
  {
   "cell_type": "code",
   "execution_count": 13,
   "id": "b8b72d20",
   "metadata": {
    "scrolled": true
   },
   "outputs": [
    {
     "name": "stderr",
     "output_type": "stream",
     "text": [
      "\r",
      "description:   0%|                                                            | 0/2 [00:00<?, ?it/s]"
     ]
    },
    {
     "name": "stdout",
     "output_type": "stream",
     "text": [
      "train_loss== tensor(0.1602, dtype=torch.float64, grad_fn=<MeanBackward0>)\n",
      "g tensor(0.2000, requires_grad=True)\n",
      "train_loss== tensor(0.4171, dtype=torch.float64, grad_fn=<MeanBackward0>)\n",
      "g tensor(0.0842, requires_grad=True)\n",
      "train_loss== tensor(0.1263, dtype=torch.float64, grad_fn=<MeanBackward0>)\n",
      "g tensor(0.2289, requires_grad=True)\n",
      "train_loss== tensor(0.1361, dtype=torch.float64, grad_fn=<MeanBackward0>)\n",
      "g tensor(0.1669, requires_grad=True)\n",
      "train_loss== tensor(0.7190, dtype=torch.float64, grad_fn=<MeanBackward0>)\n",
      "g tensor(0.3771, requires_grad=True)\n",
      "train_loss== tensor(0.0557, dtype=torch.float64, grad_fn=<MeanBackward0>)\n",
      "g tensor(0.2041, requires_grad=True)\n",
      "train_loss== tensor(0.0417, dtype=torch.float64, grad_fn=<MeanBackward0>)\n",
      "g tensor(0.2021, requires_grad=True)\n",
      "train_loss== tensor(0.0500, dtype=torch.float64, grad_fn=<MeanBackward0>)\n",
      "g tensor(0.2035, requires_grad=True)\n",
      "train_loss== tensor(0.0457, dtype=torch.float64, grad_fn=<MeanBackward0>)\n",
      "g tensor(0.2029, requires_grad=True)\n",
      "train_loss== tensor(0.0429, dtype=torch.float64, grad_fn=<MeanBackward0>)\n",
      "g tensor(0.2123, requires_grad=True)\n",
      "train_loss== tensor(0.0378, dtype=torch.float64, grad_fn=<MeanBackward0>)\n",
      "g tensor(0.2152, requires_grad=True)\n",
      "train_loss== tensor(0.0395, dtype=torch.float64, grad_fn=<MeanBackward0>)\n",
      "g tensor(0.2274, requires_grad=True)\n",
      "train_loss== tensor(0.0374, dtype=torch.float64, grad_fn=<MeanBackward0>)\n",
      "g tensor(0.2205, requires_grad=True)\n",
      "train_loss== tensor(0.0380, dtype=torch.float64, grad_fn=<MeanBackward0>)\n",
      "g tensor(0.2313, requires_grad=True)\n",
      "train_loss== tensor(0.0373, dtype=torch.float64, grad_fn=<MeanBackward0>)\n",
      "g tensor(0.2236, requires_grad=True)\n",
      "train_loss== tensor(0.0385, dtype=torch.float64, grad_fn=<MeanBackward0>)\n",
      "g tensor(0.2318, requires_grad=True)\n",
      "train_loss== tensor(0.0374, dtype=torch.float64, grad_fn=<MeanBackward0>)\n",
      "g tensor(0.2251, requires_grad=True)\n",
      "train_loss== tensor(0.0373, dtype=torch.float64, grad_fn=<MeanBackward0>)\n",
      "g tensor(0.2239, requires_grad=True)\n",
      "train_loss== tensor(0.0373, dtype=torch.float64, grad_fn=<MeanBackward0>)\n",
      "g tensor(0.2241, requires_grad=True)\n",
      "train_loss== tensor(0.0373, dtype=torch.float64, grad_fn=<MeanBackward0>)\n",
      "g tensor(0.2239, requires_grad=True)\n",
      "train_loss== tensor(0.0373, dtype=torch.float64, grad_fn=<MeanBackward0>)\n",
      "g tensor(0.2240, requires_grad=True)\n",
      "train_loss== tensor(0.0373, dtype=torch.float64, grad_fn=<MeanBackward0>)\n",
      "g tensor(0.2240, requires_grad=True)\n",
      "train_loss== tensor(0.0373, dtype=torch.float64, grad_fn=<MeanBackward0>)\n",
      "g tensor(0.2240, requires_grad=True)\n",
      "train_loss== tensor(0.0373, dtype=torch.float64, grad_fn=<MeanBackward0>)\n",
      "g tensor(0.2240, requires_grad=True)\n",
      "train_loss== tensor(0.0373, dtype=torch.float64, grad_fn=<MeanBackward0>)\n",
      "g tensor(0.2240, requires_grad=True)\n",
      "train_loss== tensor(0.0373, dtype=torch.float64, grad_fn=<MeanBackward0>)\n",
      "g tensor(0.2240, requires_grad=True)\n",
      "train_loss== tensor(0.0373, dtype=torch.float64, grad_fn=<MeanBackward0>)\n",
      "g tensor(0.2240, requires_grad=True)\n"
     ]
    },
    {
     "name": "stderr",
     "output_type": "stream",
     "text": [
      "train loss: 3.73e-02 |  reg: 2.69e+00 :  50%|████████████            | 1/2 [02:25<02:25, 145.08s/it]"
     ]
    },
    {
     "name": "stdout",
     "output_type": "stream",
     "text": [
      "train_loss== tensor(0.0373, dtype=torch.float64, grad_fn=<MeanBackward0>)\n",
      "g tensor(0.2240, requires_grad=True)\n",
      "train_loss== tensor(0.0427, dtype=torch.float64, grad_fn=<MeanBackward0>)\n",
      "g tensor(0.2418, requires_grad=True)\n",
      "train_loss== tensor(0.0376, dtype=torch.float64, grad_fn=<MeanBackward0>)\n",
      "g tensor(0.2264, requires_grad=True)\n",
      "train_loss== tensor(0.0374, dtype=torch.float64, grad_fn=<MeanBackward0>)\n",
      "g tensor(0.2244, requires_grad=True)\n",
      "train_loss== tensor(0.0373, dtype=torch.float64, grad_fn=<MeanBackward0>)\n",
      "g tensor(0.2240, requires_grad=True)\n",
      "train_loss== tensor(0.0373, dtype=torch.float64, grad_fn=<MeanBackward0>)\n",
      "g tensor(0.2240, requires_grad=True)\n",
      "train_loss== tensor(0.0373, dtype=torch.float64, grad_fn=<MeanBackward0>)\n",
      "g tensor(0.2240, requires_grad=True)\n",
      "train_loss== tensor(0.0373, dtype=torch.float64, grad_fn=<MeanBackward0>)\n",
      "g tensor(0.2240, requires_grad=True)\n",
      "train_loss== tensor(0.0373, dtype=torch.float64, grad_fn=<MeanBackward0>)\n",
      "g tensor(0.2240, requires_grad=True)\n",
      "train_loss== tensor(0.0373, dtype=torch.float64, grad_fn=<MeanBackward0>)\n",
      "g tensor(0.2240, requires_grad=True)\n",
      "train_loss== tensor(0.0373, dtype=torch.float64, grad_fn=<MeanBackward0>)\n",
      "g tensor(0.2240, requires_grad=True)\n",
      "train_loss== tensor(0.0373, dtype=torch.float64, grad_fn=<MeanBackward0>)\n",
      "g tensor(0.2240, requires_grad=True)\n",
      "train_loss== tensor(0.0373, dtype=torch.float64, grad_fn=<MeanBackward0>)\n",
      "g tensor(0.2240, requires_grad=True)\n",
      "train_loss== tensor(0.0373, dtype=torch.float64, grad_fn=<MeanBackward0>)\n",
      "g tensor(0.2240, requires_grad=True)\n",
      "train_loss== tensor(0.0373, dtype=torch.float64, grad_fn=<MeanBackward0>)\n",
      "g tensor(0.2240, requires_grad=True)\n",
      "train_loss== tensor(0.0373, dtype=torch.float64, grad_fn=<MeanBackward0>)\n",
      "g tensor(0.2240, requires_grad=True)\n",
      "train_loss== tensor(0.6824, dtype=torch.float64, grad_fn=<MeanBackward0>)\n",
      "g tensor(0.5746, requires_grad=True)\n",
      "train_loss== tensor(0.0458, dtype=torch.float64, grad_fn=<MeanBackward0>)\n",
      "g tensor(0.2481, requires_grad=True)\n",
      "train_loss== tensor(0.0377, dtype=torch.float64, grad_fn=<MeanBackward0>)\n",
      "g tensor(0.2269, requires_grad=True)\n",
      "train_loss== tensor(0.0374, dtype=torch.float64, grad_fn=<MeanBackward0>)\n",
      "g tensor(0.2244, requires_grad=True)\n",
      "train_loss== tensor(0.0373, dtype=torch.float64, grad_fn=<MeanBackward0>)\n",
      "g tensor(0.2241, requires_grad=True)\n",
      "train_loss== tensor(0.0373, dtype=torch.float64, grad_fn=<MeanBackward0>)\n",
      "g tensor(0.2240, requires_grad=True)\n",
      "train_loss== tensor(0.0373, dtype=torch.float64, grad_fn=<MeanBackward0>)\n",
      "g tensor(0.2240, requires_grad=True)\n",
      "train_loss== tensor(0.0373, dtype=torch.float64, grad_fn=<MeanBackward0>)\n",
      "g tensor(0.2240, requires_grad=True)\n",
      "train_loss== tensor(0.0373, dtype=torch.float64, grad_fn=<MeanBackward0>)\n",
      "g tensor(0.2240, requires_grad=True)\n",
      "train_loss== tensor(0.0373, dtype=torch.float64, grad_fn=<MeanBackward0>)\n",
      "g tensor(0.2240, requires_grad=True)\n",
      "train_loss== tensor(0.0373, dtype=torch.float64, grad_fn=<MeanBackward0>)\n",
      "g tensor(0.2240, requires_grad=True)\n",
      "train_loss== tensor(0.0373, dtype=torch.float64, grad_fn=<MeanBackward0>)\n",
      "g tensor(0.2240, requires_grad=True)\n",
      "train_loss== tensor(0.0373, dtype=torch.float64, grad_fn=<MeanBackward0>)\n",
      "g tensor(0.2240, requires_grad=True)\n",
      "train_loss== tensor(0.0373, dtype=torch.float64, grad_fn=<MeanBackward0>)\n",
      "g tensor(0.2240, requires_grad=True)\n",
      "train_loss== tensor(0.0373, dtype=torch.float64, grad_fn=<MeanBackward0>)\n",
      "g tensor(0.2240, requires_grad=True)\n",
      "train_loss== tensor(0.0373, dtype=torch.float64, grad_fn=<MeanBackward0>)\n",
      "g tensor(0.2240, requires_grad=True)\n"
     ]
    },
    {
     "name": "stderr",
     "output_type": "stream",
     "text": [
      "train loss: 3.73e-02 |  reg: 2.69e+00 : 100%|████████████████████████| 2/2 [05:14<00:00, 157.00s/it]\n"
     ]
    }
   ],
   "source": [
    "model.KAN_train(dataset,func_LE_wrapper, steps=2, lamb=0.01,lamb_entropy=5.0,lr=2);"
   ]
  },
  {
   "cell_type": "code",
   "execution_count": 14,
   "id": "d9efaf18",
   "metadata": {},
   "outputs": [
    {
     "name": "stdout",
     "output_type": "stream",
     "text": [
      "fixing (0,0,0) with sin, r2=0.9999745781495012\n",
      "fixing (1,0,0) with sin, r2=0.9999284042375572\n"
     ]
    },
    {
     "data": {
      "image/png": "[encoded data removed]",
      "text/plain": [
       "<Figure size 500x400 with 3 Axes>"
      ]
     },
     "metadata": {},
     "output_type": "display_data"
    }
   ],
   "source": [
    "model.auto_symbolic()\n",
    "model.plot()"
   ]
  },
  {
   "cell_type": "code",
   "execution_count": 15,
   "id": "c295cf9f",
   "metadata": {
    "scrolled": true
   },
   "outputs": [
    {
     "name": "stderr",
     "output_type": "stream",
     "text": [
      "description:   0%|                                                            | 0/1 [00:00<?, ?it/s]d:\\Jupyter\\两味道T=0Mev\\pykan-master\\kan\\KAN.py:327: UserWarning: std(): degrees of freedom is <= 0. Correction should be strictly less than the reduction factor (input numel divided by output numel). (Triggered internally at C:\\actions-runner\\_work\\pytorch\\pytorch\\builder\\windows\\pytorch\\aten\\src\\ATen\\native\\ReduceOps.cpp:1760.)\n",
      "  self.acts_scale_std.append(torch.std(postacts, dim=0))\n"
     ]
    },
    {
     "name": "stdout",
     "output_type": "stream",
     "text": [
      "train_loss== tensor(0.0530, dtype=torch.float64, grad_fn=<MeanBackward0>)\n",
      "g tensor(0.2000, requires_grad=True)\n",
      "train_loss== tensor(3.0629, dtype=torch.float64, grad_fn=<MeanBackward0>)\n",
      "g tensor(0.8562, requires_grad=True)\n",
      "train_loss== tensor(0.1412, dtype=torch.float64, grad_fn=<MeanBackward0>)\n",
      "g tensor(0.2431, requires_grad=True)\n",
      "train_loss== tensor(0.0448, dtype=torch.float64, grad_fn=<MeanBackward0>)\n",
      "g tensor(0.2067, requires_grad=True)\n",
      "train_loss== tensor(0.0415, dtype=torch.float64, grad_fn=<MeanBackward0>)\n",
      "g tensor(0.2137, requires_grad=True)\n",
      "train_loss== tensor(0.0324, dtype=torch.float64, grad_fn=<MeanBackward0>)\n",
      "g tensor(0.2526, requires_grad=True)\n",
      "train_loss== tensor(0.0501, dtype=torch.float64, grad_fn=<MeanBackward0>)\n",
      "g tensor(0.2833, requires_grad=True)\n",
      "train_loss== tensor(0.0328, dtype=torch.float64, grad_fn=<MeanBackward0>)\n",
      "g tensor(0.2573, requires_grad=True)\n",
      "train_loss== tensor(0.0388, dtype=torch.float64, grad_fn=<MeanBackward0>)\n",
      "g tensor(0.2702, requires_grad=True)\n",
      "train_loss== tensor(0.0332, dtype=torch.float64, grad_fn=<MeanBackward0>)\n",
      "g tensor(0.2586, requires_grad=True)\n",
      "train_loss== tensor(0.0328, dtype=torch.float64, grad_fn=<MeanBackward0>)\n",
      "g tensor(0.2575, requires_grad=True)\n",
      "train_loss== tensor(0.0328, dtype=torch.float64, grad_fn=<MeanBackward0>)\n",
      "g tensor(0.2574, requires_grad=True)\n",
      "train_loss== tensor(0.0328, dtype=torch.float64, grad_fn=<MeanBackward0>)\n",
      "g tensor(0.2573, requires_grad=True)\n",
      "train_loss== tensor(0.0328, dtype=torch.float64, grad_fn=<MeanBackward0>)\n",
      "g tensor(0.2573, requires_grad=True)\n",
      "train_loss== tensor(0.0328, dtype=torch.float64, grad_fn=<MeanBackward0>)\n",
      "g tensor(0.2573, requires_grad=True)\n",
      "train_loss== tensor(0.0328, dtype=torch.float64, grad_fn=<MeanBackward0>)\n",
      "g tensor(0.2573, requires_grad=True)\n"
     ]
    },
    {
     "name": "stderr",
     "output_type": "stream",
     "text": [
      "train loss: 3.28e-02 |  reg: 2.42e+00 : 100%|█████████████████████████| 1/1 [01:27<00:00, 87.61s/it]\n"
     ]
    }
   ],
   "source": [
    "model.KAN_train(dataset,func_LE_wrapper, steps=1, lamb=0.01,lamb_entropy=5.0,lr=1);"
   ]
  },
  {
   "cell_type": "code",
   "execution_count": 16,
   "id": "fba64faa",
   "metadata": {
    "scrolled": true
   },
   "outputs": [
    {
     "data": {
      "text/latex": [
       "$\\displaystyle 2.94 \\sin{\\left(1.24 \\sin{\\left(0.47 x_{1} + 1.94 \\right)} - 9.55 \\right)} + 3.53$"
      ],
      "text/plain": [
       "2.94*sin(1.24*sin(0.47*x_1 + 1.94) - 9.55) + 3.53"
      ]
     },
     "execution_count": 16,
     "metadata": {},
     "output_type": "execute_result"
    }
   ],
   "source": [
    "model.symbolic_formula()[0][0]"
   ]
  },
  {
   "cell_type": "code",
   "execution_count": 17,
   "id": "bd4a7591",
   "metadata": {},
   "outputs": [
    {
     "data": {
      "text/plain": [
       "[2.94*sin(1.24*sin(0.47*r + 1.94) - 9.55) + 3.53]"
      ]
     },
     "execution_count": 17,
     "metadata": {},
     "output_type": "execute_result"
    }
   ],
   "source": [
    "model.symbolic_formula(var=['r'])[0]"
   ]
  },
  {
   "cell_type": "code",
   "execution_count": null,
   "id": "0502dc42",
   "metadata": {},
   "outputs": [],
   "source": [
    "\n"
   ]
  },
  {
   "cell_type": "code",
   "execution_count": 17,
   "id": "5df4f69f",
   "metadata": {
    "collapsed": true
   },
   "outputs": [
    {
     "name": "stderr",
     "output_type": "stream",
     "text": [
      "train loss: 6.35e-09 | test loss: 1.00e+00 | reg: 2.69e+02 : 100%|██| 50/50 [00:08<00:00,  6.17it/s]\n"
     ]
    },
    {
     "data": {
      "image/png": "[encoded data removed]",
      "text/plain": [
       "<Figure size 500x400 with 3 Axes>"
      ]
     },
     "metadata": {},
     "output_type": "display_data"
    }
   ],
   "source": [
    "model.train(dataset, opt=\"LBFGS\", steps=50);\n",
    "model.plot()"
   ]
  },
  {
   "cell_type": "code",
   "execution_count": 18,
   "id": "b0583b6d",
   "metadata": {},
   "outputs": [],
   "source": [
    "model.load_ckpt('ckpt1')"
   ]
  },
  {
   "cell_type": "code",
   "execution_count": 19,
   "id": "40cd8959",
   "metadata": {},
   "outputs": [
    {
     "data": {
      "image/png": "[encoded data removed]",
      "text/plain": [
       "<Figure size 500x400 with 3 Axes>"
      ]
     },
     "metadata": {},
     "output_type": "display_data"
    }
   ],
   "source": [
    "model(dataset['train_input'][:10])\n",
    "model.plot(sample=True)"
   ]
  },
  {
   "cell_type": "code",
   "execution_count": null,
   "id": "f2364041",
   "metadata": {},
   "outputs": [],
   "source": []
  }
 ],
 "metadata": {
  "kernelspec": {
   "display_name": "Python 3 (ipykernel)",
   "language": "python",
   "name": "python3"
  },
  "language_info": {
   "codemirror_mode": {
    "name": "ipython",
    "version": 3
   },
   "file_extension": ".py",
   "mimetype": "text/x-python",
   "name": "python",
   "nbconvert_exporter": "python",
   "pygments_lexer": "ipython3",
   "version": "3.9.13"
  }
 },
 "nbformat": 4,
 "nbformat_minor": 5
}
